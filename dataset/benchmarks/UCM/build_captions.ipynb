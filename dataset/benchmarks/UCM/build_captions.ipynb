{
 "cells": [
  {
   "cell_type": "code",
   "execution_count": 1,
   "metadata": {},
   "outputs": [],
   "source": [
    "# -------------------------------------------------------------------------\n",
    "# Author:   Alberto Frizzera, info@albertofrizzera.com\n",
    "# Date:     29/08/2023\n",
    "# -------------------------------------------------------------------------\n",
    "\n",
    "import os\n",
    "import sys\n",
    "sys.path.append(os.path.join(\"../../../\"))\n",
    "\n",
    "import pandas as pd\n",
    "import numpy as np\n",
    "import pickle\n",
    "import time\n",
    "from dotenv import load_dotenv\n",
    "import shutil\n",
    "from PIL import Image\n",
    "import matplotlib.pyplot as plt\n",
    "import glob\n",
    "from tqdm import tqdm\n",
    "import gc\n",
    "from sklearn.model_selection import train_test_split\n",
    "import json"
   ]
  },
  {
   "cell_type": "markdown",
   "metadata": {},
   "source": [
    "## Build"
   ]
  },
  {
   "cell_type": "code",
   "execution_count": 2,
   "metadata": {},
   "outputs": [],
   "source": [
    "data = json.load(open(os.path.join(os.environ[\"BENCHMARK_DATASETS\"],\"UCM_captions/labels/captions.json\"),\"rb\"))[\"images\"]"
   ]
  },
  {
   "cell_type": "code",
   "execution_count": 3,
   "metadata": {},
   "outputs": [
    {
     "name": "stderr",
     "output_type": "stream",
     "text": [
      "100%|██████████| 2100/2100 [00:06<00:00, 314.92it/s]\n"
     ]
    }
   ],
   "source": [
    "df = pd.DataFrame()\n",
    "\n",
    "for sample in tqdm(data):\n",
    "    for i in range(len(sample[\"sentences\"])):\n",
    "        row = {\"filename\": sample[\"filename\"],\n",
    "               \"img_id\": sample[\"imgid\"],\n",
    "               \"split\": sample[\"split\"],\n",
    "               \"sent_id\": sample[\"sentids\"][i],\n",
    "               \"sentence\": sample[\"sentences\"][i][\"raw\"]}\n",
    "        df = pd.concat([df, pd.DataFrame([row])]).reset_index(drop=True)"
   ]
  },
  {
   "cell_type": "code",
   "execution_count": 4,
   "metadata": {},
   "outputs": [
    {
     "name": "stdout",
     "output_type": "stream",
     "text": [
      "Train samples:  8400\n",
      "Test samples:  1050\n",
      "Val samples:  1050\n"
     ]
    }
   ],
   "source": [
    "print(\"Train samples: \",df[df[\"split\"]==\"train\"].shape[0])\n",
    "print(\"Test samples: \",df[df[\"split\"]==\"test\"].shape[0])\n",
    "print(\"Val samples: \",df[df[\"split\"]==\"val\"].shape[0])"
   ]
  },
  {
   "cell_type": "code",
   "execution_count": 5,
   "metadata": {},
   "outputs": [
    {
     "data": {
      "text/html": [
       "<div>\n",
       "<style scoped>\n",
       "    .dataframe tbody tr th:only-of-type {\n",
       "        vertical-align: middle;\n",
       "    }\n",
       "\n",
       "    .dataframe tbody tr th {\n",
       "        vertical-align: top;\n",
       "    }\n",
       "\n",
       "    .dataframe thead th {\n",
       "        text-align: right;\n",
       "    }\n",
       "</style>\n",
       "<table border=\"1\" class=\"dataframe\">\n",
       "  <thead>\n",
       "    <tr style=\"text-align: right;\">\n",
       "      <th></th>\n",
       "      <th>filename</th>\n",
       "      <th>img_id</th>\n",
       "      <th>split</th>\n",
       "      <th>sent_id</th>\n",
       "      <th>sentence</th>\n",
       "    </tr>\n",
       "  </thead>\n",
       "  <tbody>\n",
       "    <tr>\n",
       "      <th>0</th>\n",
       "      <td>1.tif</td>\n",
       "      <td>0</td>\n",
       "      <td>train</td>\n",
       "      <td>0</td>\n",
       "      <td>There is a piece of farmland .</td>\n",
       "    </tr>\n",
       "    <tr>\n",
       "      <th>1</th>\n",
       "      <td>1.tif</td>\n",
       "      <td>0</td>\n",
       "      <td>train</td>\n",
       "      <td>1</td>\n",
       "      <td>There is a piece of cropland .</td>\n",
       "    </tr>\n",
       "    <tr>\n",
       "      <th>2</th>\n",
       "      <td>1.tif</td>\n",
       "      <td>0</td>\n",
       "      <td>train</td>\n",
       "      <td>2</td>\n",
       "      <td>It is a piece of farmland .</td>\n",
       "    </tr>\n",
       "    <tr>\n",
       "      <th>3</th>\n",
       "      <td>1.tif</td>\n",
       "      <td>0</td>\n",
       "      <td>train</td>\n",
       "      <td>3</td>\n",
       "      <td>It is a piece of cropland .</td>\n",
       "    </tr>\n",
       "    <tr>\n",
       "      <th>4</th>\n",
       "      <td>1.tif</td>\n",
       "      <td>0</td>\n",
       "      <td>train</td>\n",
       "      <td>4</td>\n",
       "      <td>Here is a piece of farmland .</td>\n",
       "    </tr>\n",
       "  </tbody>\n",
       "</table>\n",
       "</div>"
      ],
      "text/plain": [
       "  filename  img_id  split  sent_id                        sentence\n",
       "0    1.tif       0  train        0  There is a piece of farmland .\n",
       "1    1.tif       0  train        1  There is a piece of cropland .\n",
       "2    1.tif       0  train        2     It is a piece of farmland .\n",
       "3    1.tif       0  train        3     It is a piece of cropland .\n",
       "4    1.tif       0  train        4   Here is a piece of farmland ."
      ]
     },
     "execution_count": 5,
     "metadata": {},
     "output_type": "execute_result"
    }
   ],
   "source": [
    "df.head()"
   ]
  },
  {
   "cell_type": "code",
   "execution_count": 6,
   "metadata": {},
   "outputs": [],
   "source": [
    "df.reset_index(drop=True, inplace=True)\n",
    "pickle.dump(df, open(os.path.join(os.environ[\"BENCHMARK_DATASETS\"],\"UCM_captions/labels/UCM_captions.pkl\"),\"wb\"))\n",
    "df.to_csv(os.path.join(os.environ[\"BENCHMARK_DATASETS\"],\"UCM_captions/labels/UCM_captions.csv\"), index=True, lineterminator='\\r\\n')"
   ]
  }
 ],
 "metadata": {
  "kernelspec": {
   "display_name": "RS",
   "language": "python",
   "name": "python3"
  },
  "language_info": {
   "codemirror_mode": {
    "name": "ipython",
    "version": 3
   },
   "file_extension": ".py",
   "mimetype": "text/x-python",
   "name": "python",
   "nbconvert_exporter": "python",
   "pygments_lexer": "ipython3",
   "version": "3.9.0"
  },
  "orig_nbformat": 4
 },
 "nbformat": 4,
 "nbformat_minor": 2
}
