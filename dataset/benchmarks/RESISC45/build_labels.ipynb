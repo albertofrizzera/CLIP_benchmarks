{
 "cells": [
  {
   "cell_type": "code",
   "execution_count": 1,
   "metadata": {},
   "outputs": [],
   "source": [
    "# -------------------------------------------------------------------------\n",
    "# Author:   Alberto Frizzera\n",
    "# Date:     29/08/2023, info@albertofrizzera.com\n",
    "# -------------------------------------------------------------------------\n",
    "\n",
    "import os\n",
    "import sys\n",
    "sys.path.append(os.path.join(\"../../../\"))\n",
    "\n",
    "import pandas as pd\n",
    "import numpy as np\n",
    "import pickle\n",
    "import time\n",
    "from dotenv import load_dotenv\n",
    "import shutil\n",
    "from PIL import Image\n",
    "import matplotlib.pyplot as plt\n",
    "import glob\n",
    "from tqdm import tqdm\n",
    "import gc\n",
    "from sklearn.model_selection import train_test_split"
   ]
  },
  {
   "cell_type": "markdown",
   "metadata": {},
   "source": [
    "## Build"
   ]
  },
  {
   "cell_type": "code",
   "execution_count": 2,
   "metadata": {},
   "outputs": [
    {
     "data": {
      "text/plain": [
       "(10500, 2)"
      ]
     },
     "execution_count": 2,
     "metadata": {},
     "output_type": "execute_result"
    }
   ],
   "source": [
    "df = pd.DataFrame()\n",
    "for label_path in sorted(glob.glob(os.path.join(os.environ[\"BENCHMARK_DATASETS\"],\"RESISC45/images/*\"))):\n",
    "    label = os.path.basename(label_path)\n",
    "    filepaths = list(map(os.path.basename, sorted(glob.glob(os.path.join(label_path,\"*\")))))\n",
    "    filepaths = list(map(lambda x: label + \"/\" + x, filepaths))\n",
    "    df_tmp = pd.DataFrame({\"filepath\": filepaths})\n",
    "    df_tmp[\"label\"] = label.replace(\"_\", \" \")\n",
    "    df = pd.concat([df, df_tmp])\n",
    "df.reset_index(drop=True, inplace=True)\n",
    "df.shape"
   ]
  },
  {
   "cell_type": "code",
   "execution_count": 3,
   "metadata": {},
   "outputs": [
    {
     "name": "stdout",
     "output_type": "stream",
     "text": [
      "Train samples:  6720\n",
      "Test samples:  2100\n",
      "Val samples:  1680\n"
     ]
    }
   ],
   "source": [
    "df_train, df_test = train_test_split(df, test_size=0.2, stratify=df[\"label\"])\n",
    "df_train, df_val = train_test_split(df_train, test_size=0.2, stratify=df_train[\"label\"])\n",
    "\n",
    "print(\"Train samples: \",df_train.shape[0])\n",
    "print(\"Test samples: \",df_test.shape[0])\n",
    "print(\"Val samples: \",df_val.shape[0])"
   ]
  },
  {
   "cell_type": "code",
   "execution_count": 4,
   "metadata": {},
   "outputs": [],
   "source": [
    "df_train[\"split\"] = \"train\"\n",
    "df_test[\"split\"] = \"test\"\n",
    "df_val[\"split\"] = \"val\"\n",
    "\n",
    "df = pd.DataFrame()\n",
    "df = pd.concat([df_train, df_val, df_test]).reset_index(drop=True)"
   ]
  },
  {
   "cell_type": "code",
   "execution_count": 5,
   "metadata": {},
   "outputs": [
    {
     "data": {
      "text/html": [
       "<div>\n",
       "<style scoped>\n",
       "    .dataframe tbody tr th:only-of-type {\n",
       "        vertical-align: middle;\n",
       "    }\n",
       "\n",
       "    .dataframe tbody tr th {\n",
       "        vertical-align: top;\n",
       "    }\n",
       "\n",
       "    .dataframe thead th {\n",
       "        text-align: right;\n",
       "    }\n",
       "</style>\n",
       "<table border=\"1\" class=\"dataframe\">\n",
       "  <thead>\n",
       "    <tr style=\"text-align: right;\">\n",
       "      <th></th>\n",
       "      <th>filepath</th>\n",
       "      <th>label</th>\n",
       "      <th>split</th>\n",
       "    </tr>\n",
       "  </thead>\n",
       "  <tbody>\n",
       "    <tr>\n",
       "      <th>8085</th>\n",
       "      <td>parking_space/img0385.jpg</td>\n",
       "      <td>parking space</td>\n",
       "      <td>train</td>\n",
       "    </tr>\n",
       "    <tr>\n",
       "      <th>10385</th>\n",
       "      <td>storage_cisterns/img0585.jpg</td>\n",
       "      <td>storage cisterns</td>\n",
       "      <td>train</td>\n",
       "    </tr>\n",
       "    <tr>\n",
       "      <th>10304</th>\n",
       "      <td>storage_cisterns/img0504.jpg</td>\n",
       "      <td>storage cisterns</td>\n",
       "      <td>train</td>\n",
       "    </tr>\n",
       "    <tr>\n",
       "      <th>3209</th>\n",
       "      <td>dense_residential/img0409.jpg</td>\n",
       "      <td>dense residential</td>\n",
       "      <td>train</td>\n",
       "    </tr>\n",
       "    <tr>\n",
       "      <th>7136</th>\n",
       "      <td>game_space/img0436.jpg</td>\n",
       "      <td>game space</td>\n",
       "      <td>train</td>\n",
       "    </tr>\n",
       "  </tbody>\n",
       "</table>\n",
       "</div>"
      ],
      "text/plain": [
       "                            filepath              label  split\n",
       "8085       parking_space/img0385.jpg      parking space  train\n",
       "10385   storage_cisterns/img0585.jpg   storage cisterns  train\n",
       "10304   storage_cisterns/img0504.jpg   storage cisterns  train\n",
       "3209   dense_residential/img0409.jpg  dense residential  train\n",
       "7136          game_space/img0436.jpg         game space  train"
      ]
     },
     "execution_count": 5,
     "metadata": {},
     "output_type": "execute_result"
    }
   ],
   "source": [
    "df.head()"
   ]
  },
  {
   "cell_type": "code",
   "execution_count": 6,
   "metadata": {},
   "outputs": [],
   "source": [
    "df.reset_index(drop=True, inplace=True)\n",
    "pickle.dump(df, open(os.path.join(os.environ[\"BENCHMARK_DATASETS\"],\"RESISC45/labels/RESISC45.pkl\"),\"wb\"))\n",
    "df.to_csv(os.path.join(os.environ[\"BENCHMARK_DATASETS\"],\"RESISC45/labels/RESISC45.csv\"), index=True, lineterminator='\\r\\n')"
   ]
  },
  {
   "cell_type": "markdown",
   "metadata": {},
   "source": [
    "## Analysis"
   ]
  },
  {
   "cell_type": "code",
   "execution_count": 7,
   "metadata": {},
   "outputs": [
    {
     "data": {
      "text/plain": [
       "Text(0, 0.5, 'Occurrences')"
      ]
     },
     "execution_count": 7,
     "metadata": {},
     "output_type": "execute_result"
    },
    {
     "data": {
      "image/png": "[encoded data removed]",
      "text/plain": [
       "<Figure size 1200x500 with 1 Axes>"
      ]
     },
     "metadata": {},
     "output_type": "display_data"
    }
   ],
   "source": [
    "fig = plt.figure(figsize=(12, 5))\n",
    "df[\"label\"].value_counts().plot(kind='bar')\n",
    "for index, value in enumerate(df[\"label\"].value_counts().values):\n",
    "    plt.text(index, value, \"  \"+str(value), rotation = 90, horizontalalignment=\"center\")\n",
    "plt.ylim([0, df[\"label\"].value_counts()[0]+df[\"label\"].value_counts()[0]*0.3])\n",
    "plt.xlabel(\"Label\")\n",
    "plt.ylabel(\"Occurrences\")"
   ]
  }
 ],
 "metadata": {
  "kernelspec": {
   "display_name": "RS",
   "language": "python",
   "name": "python3"
  },
  "language_info": {
   "codemirror_mode": {
    "name": "ipython",
    "version": 3
   },
   "file_extension": ".py",
   "mimetype": "text/x-python",
   "name": "python",
   "nbconvert_exporter": "python",
   "pygments_lexer": "ipython3",
   "version": "3.9.0"
  },
  "orig_nbformat": 4
 },
 "nbformat": 4,
 "nbformat_minor": 2
}
